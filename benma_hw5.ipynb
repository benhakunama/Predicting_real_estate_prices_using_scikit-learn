{
  "nbformat": 4,
  "nbformat_minor": 0,
  "metadata": {
    "colab": {
      "provenance": [],
      "toc_visible": true,
      "authorship_tag": "ABX9TyPBXtay7H29p6/FSzZj5M8L",
      "include_colab_link": true
    },
    "kernelspec": {
      "name": "python3",
      "display_name": "Python 3"
    },
    "language_info": {
      "name": "python"
    }
  },
  "cells": [
    {
      "cell_type": "markdown",
      "metadata": {
        "id": "view-in-github",
        "colab_type": "text"
      },
      "source": [
        "<a href=\"https://colab.research.google.com/github/benhakunama/Predicting_real_estate_prices_using_scikit-learn/blob/master/benma_hw5.ipynb\" target=\"_parent\"><img src=\"https://colab.research.google.com/assets/colab-badge.svg\" alt=\"Open In Colab\"/></a>"
      ]
    },
    {
      "cell_type": "code",
      "execution_count": 1,
      "metadata": {
        "id": "MMPrROoYwDYX"
      },
      "outputs": [],
      "source": [
        "from tensorflow import keras\n",
        "from keras.preprocessing.image import ImageDataGenerator as IDG\n",
        "import pandas as pd\n",
        "from sklearn.model_selection import train_test_split\n",
        "import os"
      ]
    },
    {
      "cell_type": "code",
      "source": [
        "print(\"hi\")"
      ],
      "metadata": {
        "colab": {
          "base_uri": "https://localhost:8080/"
        },
        "id": "cq7eTqp-wFQt",
        "outputId": "2ed39fc9-3ab9-4964-a751-21df980a0e61"
      },
      "execution_count": 2,
      "outputs": [
        {
          "output_type": "stream",
          "name": "stdout",
          "text": [
            "hi\n"
          ]
        }
      ]
    },
    {
      "cell_type": "code",
      "source": [
        "xtrain_url = \"https://drive.google.com/file/d/1Af6fNq6FDaoLlMm4I5u-z4_aZ9ViBNu0/view?usp=sharing\""
      ],
      "metadata": {
        "id": "-UzlduvJwRJA"
      },
      "execution_count": 3,
      "outputs": []
    },
    {
      "cell_type": "code",
      "source": [
        "import pandas as pd\n",
        "from sklearn.model_selection import train_test_split, GridSearchCV\n",
        "from sklearn.preprocessing import OneHotEncoder, StandardScaler\n",
        "from sklearn.compose import ColumnTransformer\n",
        "from sklearn.feature_selection import RFECV\n",
        "from sklearn.tree import DecisionTreeClassifier\n",
        "from sklearn.ensemble import GradientBoostingClassifier, BaggingClassifier, RandomForestClassifier\n",
        "from sklearn.metrics import accuracy_score, confusion_matrix, precision_recall_curve\n",
        "import matplotlib.pyplot as plt\n",
        "from xgboost import XGBClassifier"
      ],
      "metadata": {
        "id": "nLuarTvLxDOL"
      },
      "execution_count": 4,
      "outputs": []
    },
    {
      "cell_type": "code",
      "source": [
        "Xtrain_df = pd.read_csv(\"Xtrain.csv\")"
      ],
      "metadata": {
        "id": "pAYKwTmexJMb"
      },
      "execution_count": 23,
      "outputs": []
    },
    {
      "cell_type": "code",
      "source": [],
      "metadata": {
        "id": "N_EW2VpdypM-"
      },
      "execution_count": null,
      "outputs": []
    },
    {
      "cell_type": "code",
      "source": [
        "Xtrain.head()"
      ],
      "metadata": {
        "colab": {
          "base_uri": "https://localhost:8080/",
          "height": 300
        },
        "id": "iC084olnxNgP",
        "outputId": "a16ddeb5-f76f-43ea-a811-7d5c1f944755"
      },
      "execution_count": 9,
      "outputs": [
        {
          "output_type": "execute_result",
          "data": {
            "text/plain": [
              "   id  X  angle.tBodyAccJerkMean..gravityMean.  angle.tBodyAccMean.gravity.  \\\n",
              "0   1  1                              0.030400                    -0.112754   \n",
              "1   2  2                             -0.007435                     0.053477   \n",
              "2   3  3                              0.177899                    -0.118559   \n",
              "3   4  4                             -0.012892                    -0.036788   \n",
              "4   5  5                              0.122542                     0.123320   \n",
              "\n",
              "   angle.tBodyGyroJerkMean.gravityMean.  angle.tBodyGyroMean.gravityMean.  \\\n",
              "0                             -0.018446                         -0.464761   \n",
              "1                              0.703511                         -0.732626   \n",
              "2                              0.808529                          0.100699   \n",
              "3                             -0.485366                          0.640011   \n",
              "4                             -0.615971                          0.693578   \n",
              "\n",
              "   angle.X.gravityMean.  angle.Y.gravityMean.  angle.Z.gravityMean.  \\\n",
              "0             -0.841247              0.179941             -0.058627   \n",
              "1             -0.844788              0.180289             -0.054317   \n",
              "2             -0.848933              0.180637             -0.049118   \n",
              "3             -0.848649              0.181935             -0.047663   \n",
              "4             -0.847865              0.185151             -0.043892   \n",
              "\n",
              "   fBodyAcc.bandsEnergy...1.16  ...  tGravityAccMag.arCoeff..4  \\\n",
              "0                    -0.999969  ...                   0.191817   \n",
              "1                    -0.999994  ...                  -0.411675   \n",
              "2                    -0.999983  ...                  -0.296130   \n",
              "3                    -0.999986  ...                   0.037143   \n",
              "4                    -0.999993  ...                  -0.355851   \n",
              "\n",
              "   tGravityAccMag.energy..  tGravityAccMag.entropy..  tGravityAccMag.iqr..  \\\n",
              "0                -0.998493                 -0.232582             -0.957637   \n",
              "1                -0.999488                 -0.441876             -0.981248   \n",
              "2                -0.999682                 -0.599939             -0.985767   \n",
              "3                -0.999737                 -0.589006             -0.983509   \n",
              "4                -0.999881                 -0.704599             -0.989608   \n",
              "\n",
              "   tGravityAccMag.mad..  tGravityAccMag.max..  tGravityAccMag.mean..  \\\n",
              "0             -0.957993             -0.946305              -0.959434   \n",
              "1             -0.978247             -0.978711              -0.979289   \n",
              "2             -0.988327             -0.986496              -0.983703   \n",
              "3             -0.986431             -0.986496              -0.986542   \n",
              "4             -0.991170             -0.990962              -0.992827   \n",
              "\n",
              "   tGravityAccMag.min..  tGravityAccMag.sma..  tGravityAccMag.std..  \n",
              "0             -0.992556             -0.959434             -0.950551  \n",
              "1             -0.995333             -0.979289             -0.976057  \n",
              "2             -0.995333             -0.983703             -0.988020  \n",
              "3             -0.997045             -0.986542             -0.986421  \n",
              "4             -0.997045             -0.992827             -0.991275  \n",
              "\n",
              "[5 rows x 479 columns]"
            ],
            "text/html": [
              "\n",
              "  <div id=\"df-2afccd4b-f027-485e-86b9-c4cfe5f9beb4\">\n",
              "    <div class=\"colab-df-container\">\n",
              "      <div>\n",
              "<style scoped>\n",
              "    .dataframe tbody tr th:only-of-type {\n",
              "        vertical-align: middle;\n",
              "    }\n",
              "\n",
              "    .dataframe tbody tr th {\n",
              "        vertical-align: top;\n",
              "    }\n",
              "\n",
              "    .dataframe thead th {\n",
              "        text-align: right;\n",
              "    }\n",
              "</style>\n",
              "<table border=\"1\" class=\"dataframe\">\n",
              "  <thead>\n",
              "    <tr style=\"text-align: right;\">\n",
              "      <th></th>\n",
              "      <th>id</th>\n",
              "      <th>X</th>\n",
              "      <th>angle.tBodyAccJerkMean..gravityMean.</th>\n",
              "      <th>angle.tBodyAccMean.gravity.</th>\n",
              "      <th>angle.tBodyGyroJerkMean.gravityMean.</th>\n",
              "      <th>angle.tBodyGyroMean.gravityMean.</th>\n",
              "      <th>angle.X.gravityMean.</th>\n",
              "      <th>angle.Y.gravityMean.</th>\n",
              "      <th>angle.Z.gravityMean.</th>\n",
              "      <th>fBodyAcc.bandsEnergy...1.16</th>\n",
              "      <th>...</th>\n",
              "      <th>tGravityAccMag.arCoeff..4</th>\n",
              "      <th>tGravityAccMag.energy..</th>\n",
              "      <th>tGravityAccMag.entropy..</th>\n",
              "      <th>tGravityAccMag.iqr..</th>\n",
              "      <th>tGravityAccMag.mad..</th>\n",
              "      <th>tGravityAccMag.max..</th>\n",
              "      <th>tGravityAccMag.mean..</th>\n",
              "      <th>tGravityAccMag.min..</th>\n",
              "      <th>tGravityAccMag.sma..</th>\n",
              "      <th>tGravityAccMag.std..</th>\n",
              "    </tr>\n",
              "  </thead>\n",
              "  <tbody>\n",
              "    <tr>\n",
              "      <th>0</th>\n",
              "      <td>1</td>\n",
              "      <td>1</td>\n",
              "      <td>0.030400</td>\n",
              "      <td>-0.112754</td>\n",
              "      <td>-0.018446</td>\n",
              "      <td>-0.464761</td>\n",
              "      <td>-0.841247</td>\n",
              "      <td>0.179941</td>\n",
              "      <td>-0.058627</td>\n",
              "      <td>-0.999969</td>\n",
              "      <td>...</td>\n",
              "      <td>0.191817</td>\n",
              "      <td>-0.998493</td>\n",
              "      <td>-0.232582</td>\n",
              "      <td>-0.957637</td>\n",
              "      <td>-0.957993</td>\n",
              "      <td>-0.946305</td>\n",
              "      <td>-0.959434</td>\n",
              "      <td>-0.992556</td>\n",
              "      <td>-0.959434</td>\n",
              "      <td>-0.950551</td>\n",
              "    </tr>\n",
              "    <tr>\n",
              "      <th>1</th>\n",
              "      <td>2</td>\n",
              "      <td>2</td>\n",
              "      <td>-0.007435</td>\n",
              "      <td>0.053477</td>\n",
              "      <td>0.703511</td>\n",
              "      <td>-0.732626</td>\n",
              "      <td>-0.844788</td>\n",
              "      <td>0.180289</td>\n",
              "      <td>-0.054317</td>\n",
              "      <td>-0.999994</td>\n",
              "      <td>...</td>\n",
              "      <td>-0.411675</td>\n",
              "      <td>-0.999488</td>\n",
              "      <td>-0.441876</td>\n",
              "      <td>-0.981248</td>\n",
              "      <td>-0.978247</td>\n",
              "      <td>-0.978711</td>\n",
              "      <td>-0.979289</td>\n",
              "      <td>-0.995333</td>\n",
              "      <td>-0.979289</td>\n",
              "      <td>-0.976057</td>\n",
              "    </tr>\n",
              "    <tr>\n",
              "      <th>2</th>\n",
              "      <td>3</td>\n",
              "      <td>3</td>\n",
              "      <td>0.177899</td>\n",
              "      <td>-0.118559</td>\n",
              "      <td>0.808529</td>\n",
              "      <td>0.100699</td>\n",
              "      <td>-0.848933</td>\n",
              "      <td>0.180637</td>\n",
              "      <td>-0.049118</td>\n",
              "      <td>-0.999983</td>\n",
              "      <td>...</td>\n",
              "      <td>-0.296130</td>\n",
              "      <td>-0.999682</td>\n",
              "      <td>-0.599939</td>\n",
              "      <td>-0.985767</td>\n",
              "      <td>-0.988327</td>\n",
              "      <td>-0.986496</td>\n",
              "      <td>-0.983703</td>\n",
              "      <td>-0.995333</td>\n",
              "      <td>-0.983703</td>\n",
              "      <td>-0.988020</td>\n",
              "    </tr>\n",
              "    <tr>\n",
              "      <th>3</th>\n",
              "      <td>4</td>\n",
              "      <td>4</td>\n",
              "      <td>-0.012892</td>\n",
              "      <td>-0.036788</td>\n",
              "      <td>-0.485366</td>\n",
              "      <td>0.640011</td>\n",
              "      <td>-0.848649</td>\n",
              "      <td>0.181935</td>\n",
              "      <td>-0.047663</td>\n",
              "      <td>-0.999986</td>\n",
              "      <td>...</td>\n",
              "      <td>0.037143</td>\n",
              "      <td>-0.999737</td>\n",
              "      <td>-0.589006</td>\n",
              "      <td>-0.983509</td>\n",
              "      <td>-0.986431</td>\n",
              "      <td>-0.986496</td>\n",
              "      <td>-0.986542</td>\n",
              "      <td>-0.997045</td>\n",
              "      <td>-0.986542</td>\n",
              "      <td>-0.986421</td>\n",
              "    </tr>\n",
              "    <tr>\n",
              "      <th>4</th>\n",
              "      <td>5</td>\n",
              "      <td>5</td>\n",
              "      <td>0.122542</td>\n",
              "      <td>0.123320</td>\n",
              "      <td>-0.615971</td>\n",
              "      <td>0.693578</td>\n",
              "      <td>-0.847865</td>\n",
              "      <td>0.185151</td>\n",
              "      <td>-0.043892</td>\n",
              "      <td>-0.999993</td>\n",
              "      <td>...</td>\n",
              "      <td>-0.355851</td>\n",
              "      <td>-0.999881</td>\n",
              "      <td>-0.704599</td>\n",
              "      <td>-0.989608</td>\n",
              "      <td>-0.991170</td>\n",
              "      <td>-0.990962</td>\n",
              "      <td>-0.992827</td>\n",
              "      <td>-0.997045</td>\n",
              "      <td>-0.992827</td>\n",
              "      <td>-0.991275</td>\n",
              "    </tr>\n",
              "  </tbody>\n",
              "</table>\n",
              "<p>5 rows × 479 columns</p>\n",
              "</div>\n",
              "      <button class=\"colab-df-convert\" onclick=\"convertToInteractive('df-2afccd4b-f027-485e-86b9-c4cfe5f9beb4')\"\n",
              "              title=\"Convert this dataframe to an interactive table.\"\n",
              "              style=\"display:none;\">\n",
              "        \n",
              "  <svg xmlns=\"http://www.w3.org/2000/svg\" height=\"24px\"viewBox=\"0 0 24 24\"\n",
              "       width=\"24px\">\n",
              "    <path d=\"M0 0h24v24H0V0z\" fill=\"none\"/>\n",
              "    <path d=\"M18.56 5.44l.94 2.06.94-2.06 2.06-.94-2.06-.94-.94-2.06-.94 2.06-2.06.94zm-11 1L8.5 8.5l.94-2.06 2.06-.94-2.06-.94L8.5 2.5l-.94 2.06-2.06.94zm10 10l.94 2.06.94-2.06 2.06-.94-2.06-.94-.94-2.06-.94 2.06-2.06.94z\"/><path d=\"M17.41 7.96l-1.37-1.37c-.4-.4-.92-.59-1.43-.59-.52 0-1.04.2-1.43.59L10.3 9.45l-7.72 7.72c-.78.78-.78 2.05 0 2.83L4 21.41c.39.39.9.59 1.41.59.51 0 1.02-.2 1.41-.59l7.78-7.78 2.81-2.81c.8-.78.8-2.07 0-2.86zM5.41 20L4 18.59l7.72-7.72 1.47 1.35L5.41 20z\"/>\n",
              "  </svg>\n",
              "      </button>\n",
              "      \n",
              "  <style>\n",
              "    .colab-df-container {\n",
              "      display:flex;\n",
              "      flex-wrap:wrap;\n",
              "      gap: 12px;\n",
              "    }\n",
              "\n",
              "    .colab-df-convert {\n",
              "      background-color: #E8F0FE;\n",
              "      border: none;\n",
              "      border-radius: 50%;\n",
              "      cursor: pointer;\n",
              "      display: none;\n",
              "      fill: #1967D2;\n",
              "      height: 32px;\n",
              "      padding: 0 0 0 0;\n",
              "      width: 32px;\n",
              "    }\n",
              "\n",
              "    .colab-df-convert:hover {\n",
              "      background-color: #E2EBFA;\n",
              "      box-shadow: 0px 1px 2px rgba(60, 64, 67, 0.3), 0px 1px 3px 1px rgba(60, 64, 67, 0.15);\n",
              "      fill: #174EA6;\n",
              "    }\n",
              "\n",
              "    [theme=dark] .colab-df-convert {\n",
              "      background-color: #3B4455;\n",
              "      fill: #D2E3FC;\n",
              "    }\n",
              "\n",
              "    [theme=dark] .colab-df-convert:hover {\n",
              "      background-color: #434B5C;\n",
              "      box-shadow: 0px 1px 3px 1px rgba(0, 0, 0, 0.15);\n",
              "      filter: drop-shadow(0px 1px 2px rgba(0, 0, 0, 0.3));\n",
              "      fill: #FFFFFF;\n",
              "    }\n",
              "  </style>\n",
              "\n",
              "      <script>\n",
              "        const buttonEl =\n",
              "          document.querySelector('#df-2afccd4b-f027-485e-86b9-c4cfe5f9beb4 button.colab-df-convert');\n",
              "        buttonEl.style.display =\n",
              "          google.colab.kernel.accessAllowed ? 'block' : 'none';\n",
              "\n",
              "        async function convertToInteractive(key) {\n",
              "          const element = document.querySelector('#df-2afccd4b-f027-485e-86b9-c4cfe5f9beb4');\n",
              "          const dataTable =\n",
              "            await google.colab.kernel.invokeFunction('convertToInteractive',\n",
              "                                                     [key], {});\n",
              "          if (!dataTable) return;\n",
              "\n",
              "          const docLinkHtml = 'Like what you see? Visit the ' +\n",
              "            '<a target=\"_blank\" href=https://colab.research.google.com/notebooks/data_table.ipynb>data table notebook</a>'\n",
              "            + ' to learn more about interactive tables.';\n",
              "          element.innerHTML = '';\n",
              "          dataTable['output_type'] = 'display_data';\n",
              "          await google.colab.output.renderOutput(dataTable, element);\n",
              "          const docLink = document.createElement('div');\n",
              "          docLink.innerHTML = docLinkHtml;\n",
              "          element.appendChild(docLink);\n",
              "        }\n",
              "      </script>\n",
              "    </div>\n",
              "  </div>\n",
              "  "
            ]
          },
          "metadata": {},
          "execution_count": 9
        }
      ]
    },
    {
      "cell_type": "code",
      "source": [
        "Ytrain_df = pd.read_csv(\"Ytrain.csv\")\n",
        "Xtest_df = pd.read_csv(\"Xtest.csv\")\n",
        "Ytest_df = pd.read_csv(\"Ytest.csv\")"
      ],
      "metadata": {
        "id": "GOSnvxlHyqN5"
      },
      "execution_count": 24,
      "outputs": []
    },
    {
      "cell_type": "code",
      "source": [
        "Xtrain = Xtrain_df.drop(['id', 'X'], axis=1)\n",
        "Xtest = Xtest_df.drop(['id', 'X'], axis=1)\n"
      ],
      "metadata": {
        "id": "kj6-1oWGyqpi"
      },
      "execution_count": 25,
      "outputs": []
    },
    {
      "cell_type": "code",
      "source": [
        "Ytrain = Ytrain_df['data.y_train']\n",
        "Ytest = Ytest_df['data.y_test']"
      ],
      "metadata": {
        "id": "D-2mGJcazVPW"
      },
      "execution_count": 26,
      "outputs": []
    },
    {
      "cell_type": "code",
      "source": [
        "from sklearn import preprocessing\n",
        "le = preprocessing.LabelEncoder()\n",
        "Ytrain = le.fit_transform(Ytrain)\n",
        "Ytest = le.transform(Ytest)"
      ],
      "metadata": {
        "id": "IL9iPufB5EeN"
      },
      "execution_count": 27,
      "outputs": []
    },
    {
      "cell_type": "code",
      "source": [
        "from sklearn.linear_model import LogisticRegression\n",
        "# instantiate the model (using the default parameters)\n",
        "logreg = LogisticRegression(random_state=0, solver='lbfgs',multi_class='multinomial')"
      ],
      "metadata": {
        "id": "l9OIZZxx0_Pr"
      },
      "execution_count": 28,
      "outputs": []
    },
    {
      "cell_type": "code",
      "source": [
        "from sklearn import metrics\n",
        "# fit the model with data\n",
        "logreg.fit(Xtrain, Ytrain)\n",
        "\n",
        "y_pred = logreg.predict(Xtest)\n",
        "print('The accuracy of the Logistic Regression is', metrics.accuracy_score(y_pred,Ytest))\n"
      ],
      "metadata": {
        "colab": {
          "base_uri": "https://localhost:8080/"
        },
        "id": "HXsGYdUY0_rh",
        "outputId": "984714a2-a912-4223-8e52-7d3959ab99d1"
      },
      "execution_count": 29,
      "outputs": [
        {
          "output_type": "stream",
          "name": "stdout",
          "text": [
            "The accuracy of the Logistic Regression is 0.9599592806243638\n"
          ]
        },
        {
          "output_type": "stream",
          "name": "stderr",
          "text": [
            "/usr/local/lib/python3.8/dist-packages/sklearn/linear_model/_logistic.py:814: ConvergenceWarning: lbfgs failed to converge (status=1):\n",
            "STOP: TOTAL NO. of ITERATIONS REACHED LIMIT.\n",
            "\n",
            "Increase the number of iterations (max_iter) or scale the data as shown in:\n",
            "    https://scikit-learn.org/stable/modules/preprocessing.html\n",
            "Please also refer to the documentation for alternative solver options:\n",
            "    https://scikit-learn.org/stable/modules/linear_model.html#logistic-regression\n",
            "  n_iter_i = _check_optimize_result(\n"
          ]
        }
      ]
    },
    {
      "cell_type": "code",
      "source": [
        "from sklearn.ensemble import RandomForestClassifier as RFC\n",
        "from sklearn.neighbors import KNeighborsClassifier as KNC\n",
        "from sklearn.preprocessing import StandardScaler"
      ],
      "metadata": {
        "id": "5xbnntn7zebU"
      },
      "execution_count": 30,
      "outputs": []
    },
    {
      "cell_type": "code",
      "source": [
        "scaler = StandardScaler()\n",
        "train_features = scaler.fit_transform(Xtrain)\n",
        "test_features = scaler.transform(Xtest)\n",
        "\n",
        "lr = LogisticRegression(random_state=0, solver='lbfgs',multi_class='multinomial')\n",
        "rfc = RFC(min_samples_split = 0.01)\n",
        "knc = KNC()\n",
        "\n",
        "lr.fit(train_features, Ytrain)\n",
        "rfc.fit(train_features, Ytrain)\n",
        "knc.fit(train_features, Ytrain)\n",
        "\n",
        "lr_test_pred = lr.predict(test_features)\n",
        "rfc_test_pred = rfc.predict(test_features)\n",
        "knc_test_pred = knc.predict(test_features)\n",
        "\n",
        "print('The accuracy of the Logistic Regression is', metrics.accuracy_score(lr_test_pred,Ytest))\n",
        "print('The accuracy of the Random Forests is', metrics.accuracy_score(rfc_test_pred,Ytest))\n",
        "print('The accuracy of the 5-NN is', metrics.accuracy_score(knc_test_pred,Ytest))\n",
        "\n",
        "print(\"Logistic Regression made {} mistakes\".format(sum(lr_test_pred != Ytest)))\n",
        "print(\"Random Forests made {} mistakes\".format(sum(rfc_test_pred != Ytest)))\n",
        "print(\"5-NN made {} mistakes\".format(sum(knc_test_pred != Ytest)))\n"
      ],
      "metadata": {
        "colab": {
          "base_uri": "https://localhost:8080/"
        },
        "id": "n7vp4bxP0qfU",
        "outputId": "b7970afa-fbe9-4d30-de30-181698130b04"
      },
      "execution_count": 32,
      "outputs": [
        {
          "output_type": "stream",
          "name": "stderr",
          "text": [
            "/usr/local/lib/python3.8/dist-packages/sklearn/linear_model/_logistic.py:814: ConvergenceWarning: lbfgs failed to converge (status=1):\n",
            "STOP: TOTAL NO. of ITERATIONS REACHED LIMIT.\n",
            "\n",
            "Increase the number of iterations (max_iter) or scale the data as shown in:\n",
            "    https://scikit-learn.org/stable/modules/preprocessing.html\n",
            "Please also refer to the documentation for alternative solver options:\n",
            "    https://scikit-learn.org/stable/modules/linear_model.html#logistic-regression\n",
            "  n_iter_i = _check_optimize_result(\n"
          ]
        },
        {
          "output_type": "stream",
          "name": "stdout",
          "text": [
            "The accuracy of the Logistic Regression is 0.9558873430607397\n",
            "The accuracy of the Random Forests is 0.9222938581608415\n",
            "The accuracy of the 5-NN is 0.8863250763488293\n",
            "Logistic Regression made 130 mistakes\n",
            "Random Forests made 229 mistakes\n",
            "5-NN made 335 mistakes\n"
          ]
        }
      ]
    }
  ]
}